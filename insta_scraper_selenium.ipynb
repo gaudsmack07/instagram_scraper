{
 "cells": [
  {
   "cell_type": "code",
   "execution_count": 1,
   "metadata": {},
   "outputs": [],
   "source": [
    "from selenium import webdriver\n",
    "from selenium.webdriver.support.ui import WebDriverWait\n",
    "from selenium.webdriver.support import expected_conditions as EC\n",
    "from selenium.webdriver.common.by import By\n",
    "from selenium.common.exceptions import NoSuchElementException\n",
    "from selenium.common.exceptions import StaleElementReferenceException"
   ]
  },
  {
   "cell_type": "code",
   "execution_count": 18,
   "metadata": {},
   "outputs": [
    {
     "data": {
      "text/plain": [
       "<selenium.webdriver.chrome.webdriver.WebDriver (session=\"8f412b833bb3401de4e3875e33b28929\")>"
      ]
     },
     "execution_count": 18,
     "metadata": {},
     "output_type": "execute_result"
    }
   ],
   "source": [
    "driver = webdriver.Chrome(executable_path = '/Users/Vishal/Documents/chromedriver')\n",
    "driver"
   ]
  },
  {
   "cell_type": "code",
   "execution_count": 19,
   "metadata": {},
   "outputs": [],
   "source": [
    "#Login\n",
    "driver.get('https://www.instagram.com/')  \n",
    "driver.implicitly_wait(5)\n",
    "uname = driver.find_element_by_name('username')\n",
    "uname.send_keys(sample_username)\n",
    "pw = driver.find_element_by_name('password')\n",
    "pw.send_keys(sample_password)\n",
    "login = driver.find_element_by_xpath('//button/div[contains(@class, \"Igw0E\")]')\n",
    "login.click()\n",
    "driver.implicitly_wait(5)\n",
    "\n",
    "#Dealing with the notifications popup\n",
    "try:\n",
    "    decline_notifs = driver.find_element_by_xpath('//button[contains(@class, \"HoLwm\")]')\n",
    "    decline_notifs.click()\n",
    "except NoSuchElementException:\n",
    "    pass"
   ]
  },
  {
   "cell_type": "markdown",
   "metadata": {},
   "source": [
    "# Top 5 \"food\" handles out of the first 10"
   ]
  },
  {
   "cell_type": "code",
   "execution_count": 15,
   "metadata": {},
   "outputs": [],
   "source": [
    "#Goes through the top 5 handles out of the first 10, on the basis of the number of followers and retrieves the number of posts in the last three days\n",
    "from datetime import datetime\n",
    "curr_date = datetime.now()\n",
    "follower_count = dict()\n",
    "post_count = dict()\n",
    "count = 0\n",
    "food_search_index = 0\n",
    "\n",
    "while(count < 10): #for the first 10 handles only, one loop iteration for each handle\n",
    "    search_box = driver.find_element_by_xpath('//div[contains(@class, \"LWmhU\")]/input')\n",
    "    search_box.send_keys('food') #search keyword\n",
    "    driver.implicitly_wait(5)\n",
    "    food = driver.find_elements_by_class_name('Ap253')\n",
    "    driver.implicitly_wait(5)\n",
    "    while True: #skip the search result if it's a hashtag\n",
    "        obj = food[food_search_index]\n",
    "        if '#' in obj.text:\n",
    "            food_search_index += 1\n",
    "            continue\n",
    "        else:\n",
    "            break\n",
    "    obj.click()\n",
    "    driver.implicitly_wait(5)\n",
    "    \n",
    "    #to get the number of followers for this handle\n",
    "    followers = driver.find_element_by_xpath('//a[contains(@class, \"-nal3 \")]/span')\n",
    "    foll = followers.get_attribute(\"title\")\n",
    "    name = driver.find_element_by_class_name('fKFbl')\n",
    "    if ',' in foll:\n",
    "        foll = foll.split(',')\n",
    "        foll_str = foll[0] + foll[1]\n",
    "        foll_int = int(foll_str)\n",
    "    else:\n",
    "        foll_int = int(foll)\n",
    "    follower_count[name.text] = foll_int\n",
    "    \n",
    "    \n",
    "    #going through the posts of the handle\n",
    "    posts = driver.find_elements_by_class_name('_9AhH0')\n",
    "    for post in posts:\n",
    "        driver.execute_script(\"arguments[0].click();\", post)\n",
    "        driver.implicitly_wait(20)\n",
    "        #retrieving the date on which the post was uploaded\n",
    "        date_string = driver.find_element_by_class_name('Nzb55').get_attribute('title')\n",
    "        date_object = datetime.strptime(date_string, \"%b %d, %Y\")\n",
    "        \n",
    "        #considering and counting the post only if it was posted withing the last three days from now\n",
    "        diff = curr_date - date_object\n",
    "        if diff.days < 3:\n",
    "            post_count[name.text] = post_count.get(name.text, 0) + 1\n",
    "        else:\n",
    "            close = driver.find_element_by_class_name('yiMZG')\n",
    "            close.click()\n",
    "            break\n",
    "        close = driver.find_element_by_class_name('yiMZG')\n",
    "        close.click()\n",
    "    \n",
    "    driver.get('https://www.instagram.com/')\n",
    "    driver.implicitly_wait(10)\n",
    "    count += 1\n",
    "    food_search_index += 1"
   ]
  },
  {
   "cell_type": "code",
   "execution_count": 6,
   "metadata": {},
   "outputs": [
    {
     "name": "stdout",
     "output_type": "stream",
     "text": [
      "Top 10 search results for the keyword \"food\":\n",
      "dilsefoodie\n",
      "foodtalkindia\n",
      "yourfoodlab\n",
      "foodinsider\n",
      "buzzfeedfood\n",
      "foodgod\n",
      "food\n",
      "foodwithseoul\n",
      "foodie_incarnate\n",
      "foodnetwork\n",
      "\n",
      "Top 5 handles with the most number of followers:\n",
      "dilsefoodie  : 406177  \n",
      "foodtalkindia  : 294234  \n",
      "foodie_incarnate  : 169852  \n",
      "foodwithseoul  : 32476  \n",
      "food  : 19045  \n"
     ]
    },
    {
     "data": {
      "image/png": "[encoded data removed]",
      "text/plain": [
       "<Figure size 432x288 with 1 Axes>"
      ]
     },
     "metadata": {
      "needs_background": "light"
     },
     "output_type": "display_data"
    }
   ],
   "source": [
    "#Displaying the first 10 results\n",
    "#Then displaying the top 5 out of them on the basis of number of followers\n",
    "#Then depicting those top 5 on a bar graph\n",
    "import matplotlib.pyplot as plt\n",
    "from collections import Counter\n",
    "print('Top 10 search results for the keyword \"food\":')\n",
    "for key in follower_count:\n",
    "    print(key)\n",
    "print('\\nTop 5 handles with the most number of followers:')\n",
    "k = Counter(follower_count)\n",
    "top = k.most_common(5)\n",
    "x_top = []\n",
    "y_top = []\n",
    "for i in top: \n",
    "    x_top.append(i[0])\n",
    "    y_top.append(i[1])\n",
    "    print(i[0],\" :\",i[1],\" \")\n",
    "    \n",
    "plt.bar(x_top, y_top)\n",
    "plt.show()"
   ]
  },
  {
   "cell_type": "code",
   "execution_count": 16,
   "metadata": {},
   "outputs": [
    {
     "name": "stdout",
     "output_type": "stream",
     "text": [
      "Number of posts in last 3 days:\n",
      "dilsefoodie 2\n",
      "foodtalkindia 2\n",
      "yourfoodlab 4\n",
      "foodinsider 1\n",
      "foodgod 1\n",
      "food 5\n",
      "foodie_incarnate 4\n",
      "foodnetwork 12\n"
     ]
    },
    {
     "data": {
      "image/png": "[encoded data removed]",
      "text/plain": [
       "<Figure size 432x288 with 1 Axes>"
      ]
     },
     "metadata": {
      "needs_background": "light"
     },
     "output_type": "display_data"
    }
   ],
   "source": [
    "#Displaying the number of posts in the last three days by each handle\n",
    "print('Number of posts in last 3 days:')\n",
    "for key in post_count:\n",
    "    print(key, post_count[key])\n",
    "x_posts = post_count.keys()\n",
    "y_posts = post_count.values()\n",
    "plt.bar(x_posts, y_posts)\n",
    "plt.show()"
   ]
  },
  {
   "cell_type": "markdown",
   "metadata": {},
   "source": [
    "# Word Frequency and Hashtag Frequency of the top 5 \"food\" handles"
   ]
  },
  {
   "cell_type": "code",
   "execution_count": 22,
   "metadata": {},
   "outputs": [],
   "source": [
    "import string\n",
    "hash_count = dict() #frequency for each hashtag\n",
    "word_count = dict() #frequency for each word\n",
    "count = 0\n",
    "food_search_index = 0\n",
    "while(count < 5): #for the top 5 handles only, one loop iteration for each handle\n",
    "    search_box = driver.find_element_by_xpath('//div[contains(@class, \"LWmhU\")]/input')\n",
    "    search_box.send_keys('food')\n",
    "    driver.implicitly_wait(5)\n",
    "    food = driver.find_elements_by_class_name('Ap253')\n",
    "    driver.implicitly_wait(5)\n",
    "    while True:\n",
    "        obj = food[food_search_index]\n",
    "        if obj.text.strip() not in x_top:\n",
    "            food_search_index += 1\n",
    "            continue\n",
    "        else:\n",
    "            break\n",
    "    obj.click()\n",
    "    driver.implicitly_wait(5)\n",
    "    name = driver.find_element_by_class_name('fKFbl')\n",
    "    count += 1\n",
    "    \n",
    "    posts = driver.find_elements_by_class_name('_9AhH0')\n",
    "    count2 = 0\n",
    "    for post in posts:\n",
    "        if count2 == 10: #First 10 posts for each handle\n",
    "            break\n",
    "        driver.execute_script(\"arguments[0].click();\", post)\n",
    "        driver.implicitly_wait(20)\n",
    "        caption = driver.find_element_by_xpath('//div[contains(@class, \"C4VMK\")]/span')\n",
    "        txt = caption.text.split(' ')\n",
    "        for word in txt:\n",
    "            if len(txt) == 0:\n",
    "                break\n",
    "            if len(word.strip()) == 0:\n",
    "                continue\n",
    "            if word.strip()[0] == '#': #if the word begins with a '#', it's a hadhtag, otherwise a normal word\n",
    "                hash_count[word.strip()] = hash_count.get(word.strip(), 0) + 1\n",
    "            else:\n",
    "                word_count[word.strip(string.punctuation).lower()] = word_count.get(word.strip(string.punctuation).lower(), 0) + 1\n",
    "\n",
    "        close = driver.find_element_by_class_name('yiMZG')\n",
    "        close.click()\n",
    "        count2 += 1\n",
    "    \n",
    "    driver.get('https://www.instagram.com/')\n",
    "    driver.implicitly_wait(10)\n",
    "    food_search_index += 1"
   ]
  },
  {
   "cell_type": "code",
   "execution_count": 23,
   "metadata": {},
   "outputs": [
    {
     "name": "stdout",
     "output_type": "stream",
     "text": [
      "#food  : 5  \n",
      "#yum  : 5  \n",
      "#foodie  : 4  \n",
      "#foodstagram  : 4  \n",
      "#delicious  : 4  \n"
     ]
    },
    {
     "data": {
      "image/png": "[encoded data removed]",
      "text/plain": [
       "<Figure size 432x288 with 1 Axes>"
      ]
     },
     "metadata": {},
     "output_type": "display_data"
    }
   ],
   "source": [
    "#Displaying the top 5 hashtags used in all these posts from the top 5 handles\n",
    "k = Counter(hash_count)\n",
    "top = k.most_common(5)\n",
    "x_hash = []\n",
    "y_hash = []\n",
    "for i in top: \n",
    "    x_hash.append(i[0])\n",
    "    y_hash.append(i[1])\n",
    "    print(i[0],\" :\",i[1],\" \")\n",
    "    \n",
    "plt.pie(y_hash, labels = x_hash)\n",
    "plt.show()"
   ]
  },
  {
   "cell_type": "code",
   "execution_count": 24,
   "metadata": {},
   "outputs": [],
   "source": [
    "#Writing the word_count dictionary to a csv file\n",
    "import pandas as pd\n",
    "\n",
    "(pd.DataFrame.from_dict(data=word_count, orient='index')\n",
    "   .to_csv('new_dict_file.csv', header=False))"
   ]
  },
  {
   "cell_type": "markdown",
   "metadata": {},
   "source": [
    "# Likes to Followers Ratio for top 5 \"food\" handles"
   ]
  },
  {
   "cell_type": "code",
   "execution_count": 12,
   "metadata": {},
   "outputs": [],
   "source": [
    "like_count = dict() #contains the total sum of likes on the first 10 posts of the top 5 handles\n",
    "follower_count = dict() #contains the number of followers for each of these handles\n",
    "count = 0\n",
    "food_search_index = 0\n",
    "while(count < 5):\n",
    "    search_box = driver.find_element_by_xpath('//div[contains(@class, \"LWmhU\")]/input')\n",
    "    search_box.send_keys('food')\n",
    "    driver.implicitly_wait(5)\n",
    "    food = driver.find_elements_by_class_name('Ap253')\n",
    "    driver.implicitly_wait(5)\n",
    "    while True:\n",
    "        obj = food[food_search_index]\n",
    "        if obj.text.strip() not in x_top:\n",
    "            food_search_index += 1\n",
    "            continue\n",
    "        else:\n",
    "            break\n",
    "    obj.click()\n",
    "    driver.implicitly_wait(5)\n",
    "    name = driver.find_element_by_class_name('fKFbl')\n",
    "    \n",
    "    #retrieving followers\n",
    "    followers = driver.find_element_by_xpath('//a[contains(@class, \"-nal3 \")]/span')\n",
    "    foll = followers.get_attribute(\"title\")\n",
    "    name = driver.find_element_by_class_name('fKFbl')\n",
    "    if ',' in foll:\n",
    "        foll = foll.split(',')\n",
    "        foll_str = foll[0] + foll[1]\n",
    "        foll_int = int(foll_str)\n",
    "    else:\n",
    "        foll_int = int(foll)\n",
    "    follower_count[name.text] = foll_int\n",
    "    count += 1\n",
    "    \n",
    "    posts = driver.find_elements_by_class_name('_9AhH0')\n",
    "    count2 = 0\n",
    "    for post in posts:\n",
    "        if count2 == 10:\n",
    "            break\n",
    "        driver.execute_script(\"arguments[0].click();\", post)\n",
    "        driver.implicitly_wait(20)\n",
    "        \n",
    "        #try block contains code to view the number of likes on a video\n",
    "        #in case of a video post, the page initially shows the number of views, to view the number of likes we first need to click on the number of views\n",
    "        try:\n",
    "            views = driver.find_element_by_xpath('//div[contains(@class, \"HbPOm\")]/span/span')\n",
    "            views.click()\n",
    "            like = driver.find_element_by_xpath('//div[contains(@class, \"vJRqr\")]/span')\n",
    "            likes = like.text\n",
    "            if ',' in likes:\n",
    "                likes = likes.split(',')\n",
    "                likes_str = likes[0].strip() + likes[1].strip()\n",
    "                likes_int = int(likes_str)\n",
    "            else:\n",
    "                likes_int = int(likes)\n",
    "            like_count[name.text] = like_count.get(name.text, 0) + likes_int\n",
    "            esc = driver.find_element_by_class_name('QhbhU')\n",
    "            esc.click()\n",
    "        \n",
    "        #except block contains the code to view the number of likes in case it's a photo post, in which the number of likes is visible straightaway\n",
    "        except NoSuchElementException:\n",
    "            like = driver.find_element_by_xpath('//button[contains(@class, \"yWX7d\")]/span')\n",
    "            likes = like.text\n",
    "            if ',' in likes:\n",
    "                likes = likes.split(',')\n",
    "                likes_str = likes[0].strip() + likes[1].strip()\n",
    "                likes_int = int(likes_str)\n",
    "            else:\n",
    "                likes_int = int(likes)\n",
    "            like_count[name.text] = like_count.get(name.text, 0) + likes_int\n",
    "            \n",
    "        close = driver.find_element_by_class_name('yiMZG')\n",
    "        close.click()\n",
    "        count2 += 1\n",
    "    \n",
    "    driver.get('https://www.instagram.com/')\n",
    "    driver.implicitly_wait(10)\n",
    "    food_search_index += 1"
   ]
  },
  {
   "cell_type": "code",
   "execution_count": 13,
   "metadata": {},
   "outputs": [
    {
     "name": "stdout",
     "output_type": "stream",
     "text": [
      "Average likes for the Instagram handles:\n",
      "dilsefoodie 9389.7\n",
      "foodtalkindia 381.9\n",
      "food 346.4\n",
      "foodwithseoul 263.4\n",
      "foodie_incarnate 8631.4\n"
     ]
    }
   ],
   "source": [
    "#Printing the average number of likes for each handle, Total likes for first 10 posts divided by 10\n",
    "print('Average likes for the Instagram handles:')\n",
    "for key in like_count:\n",
    "    print(key, like_count[key]/10)"
   ]
  },
  {
   "cell_type": "code",
   "execution_count": 14,
   "metadata": {},
   "outputs": [
    {
     "data": {
      "image/png": "[encoded data removed]",
      "text/plain": [
       "<Figure size 432x288 with 1 Axes>"
      ]
     },
     "metadata": {
      "needs_background": "light"
     },
     "output_type": "display_data"
    }
   ],
   "source": [
    "#Depicting the likes to followers ratio on a bar graph\n",
    "x_avg = []\n",
    "y_avg = []\n",
    "for key in like_count:\n",
    "    x_avg.append(key)\n",
    "    y_avg.append(like_count[key]/(follower_count[key] * 10))\n",
    "plt.bar(x_avg, y_avg)\n",
    "plt.show()"
   ]
  }
 ],
 "metadata": {
  "kernelspec": {
   "display_name": "Python 3",
   "language": "python",
   "name": "python3"
  },
  "language_info": {
   "codemirror_mode": {
    "name": "ipython",
    "version": 3
   },
   "file_extension": ".py",
   "mimetype": "text/x-python",
   "name": "python",
   "nbconvert_exporter": "python",
   "pygments_lexer": "ipython3",
   "version": "3.7.3"
  }
 },
 "nbformat": 4,
 "nbformat_minor": 2
}
